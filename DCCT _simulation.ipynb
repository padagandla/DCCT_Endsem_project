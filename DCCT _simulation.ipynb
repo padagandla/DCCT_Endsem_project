{
 "cells": [
  {
   "cell_type": "code",
   "execution_count": 12,
   "id": "270c37a2-b262-43b5-b334-c4b1c8baebb6",
   "metadata": {},
   "outputs": [],
   "source": [
    "import adi"
   ]
  },
  {
   "cell_type": "code",
   "execution_count": 13,
   "id": "d4ae723b-63e4-4fa4-888f-96a8f00b9643",
   "metadata": {},
   "outputs": [
    {
     "name": "stdout",
     "output_type": "stream",
     "text": [
      "23175608\n",
      "000110000011100110101001010011001010001110001011110010001111101101011011000111111111111010000110001101011001110100000111001010000100111011000011110001011111000110111010011001110010101100010000000001000101111000001101111111001111011000100011000100010110111000111100111000100101001001010011101001101100000111101010111100110101001011100101110100001001101111111011101010011101110100110100011100010000110111010100001111000010011111100111100111100110110101001111110101101100101000001000000101010111010100000010011111011111101001100110011111000010011010100010001110101010000011100110100111111011010011010110011101101101010110000101011100100111010010101111010111101011101000000011100100011000110011011100101001110100011010111111011001010001010111101111001010011011101100111000000101111110010001110010111110100100111100000001001100011000011001000111010010101100010100101101010010111100110001010101011101100001010100110011011010101100001100011100001011001111100001111110100011100100101001010111110111111001100000100101101010001101110110110111011110101010100111001011100010100111110001100010010100001000010001001011001110101101111111111001010111001011011101110000101010111011111101111101000101000100011100000011010000111000100110100011110010101011001000001111000001001001000101101110001111100100000100000110111010111100010111111010100011010001010111000111011101100001001101011010011010111110000100010101010111000110100000000000111100101010000110010110101010101101101011011110011111111110011001011110110111010100100101110100111101010100010101100011110110011000101100010000000110111000000100000111100010010101011101001100000001101000110110000011010101010001100011010010101010001011000110110001110100001100010001111100011111010001001011101111010101101111100111100100011111111110010110100111101001110111000100001001100101011011011001111110110100001011011111000110101000011110101011111100110111100010000010011101001101100011011100101011100110101111111100000100010010110100010001000110100100100011011010011001001101100111100100010101110011111010111001100100100110011001011001110001110110111011010001000001110101111010001001010001101010111101011010110001100001101011000110001110110110100101000011110000111111100000101100011100010000011001100011100001101110010000011101111000010110010101011111000110110000110010101111111100101111001100010101101001010100110111010010010010111000011001011011110011000101111110011001010100100000100111110010111011111010100110111110100100001101001001111010000001100011011001111100101110000011000100010110000001010100111100100101001011110110101110100110001011011101000000111000011011111011010000111101010011111101100111000111110011001100101100101100110110111000000011000111000110110000000111010000101111011101111010011101011001111000011000010011111101000000100011011010100101011011110011010000100101011000001110100100100101110000010010110010010000110011000101111111011000011100101110101100110100100100110101100100011101111110100100001101101101010000001001011001001110010011110011000111011010001110011101101000001001000011110101100101001011101000110011101011101011001001101111001110010000101111011001000000110011001101011111010001000010100101001000101010011110000000000100011100100110111111001000010010000110111010100100110010100011110011100001100100011111000010111101011010100100000111010110011110000000111101001010110110001001101100010000101010001100111011011000011111011001001001110100110010100011001010001100111101110010100101101100000100111111000000101101110100010100011111000100110110011000101110101010111111111001000000010110010010011100111000111111100111010111001011100011011011111011010111101101011101101011001010011100000100000011110111110100010111011000100010001001111011011001110011110111010011100110010011101101101101111110111100001100001011001111111011000000110100001001100100101011010000010110101100010010101001001011010001110000111001010000010011101100010100110001100011011001011110110111000101001110101001000100100110001011000001011011011010010101101001001000010011100001101110100011101110111110100111110101101000101011111111010000001111001011101100010110100000101101111101110010111001101000010011111111110110101100011101011001000111011110111001000111101111000000111001000100000010111000011110000011011000100000110011110011011111111010101101101111001101101111000110100000101111100110011010100111101101010011100001111101001000111100101111001100\n"
     ]
    }
   ],
   "source": [
    "import heapq\n",
    "from collections import defaultdict\n",
    "import numpy as np\n",
    "from collections import Counter\n",
    "import heapq\n",
    "import adi\n",
    "from scipy.signal import lfilter\n",
    "\n",
    "# Function to build a Huffman tree and generate the Huffman codes\n",
    "def build_huffman_tree(symbols):\n",
    "    # Count frequency of each 95-bit chunk\n",
    "    frequency = defaultdict(int)\n",
    "    for chunk in symbols:\n",
    "        frequency[chunk] += 1\n",
    "    \n",
    "    # Create a priority queue (min-heap) based on frequencies\n",
    "    heap = [[weight, [symbol, \"\"]] for symbol, weight in frequency.items()]\n",
    "    heapq.heapify(heap)\n",
    "\n",
    "    while len(heap) > 1:\n",
    "        # Pop the two smallest elements\n",
    "        lo = heapq.heappop(heap)\n",
    "        hi = heapq.heappop(heap)\n",
    "\n",
    "        # Create a new node with a combined frequency\n",
    "        for pair in lo[1:]:\n",
    "            pair[1] = '0' + pair[1]  # Add '0' to the left child\n",
    "        for pair in hi[1:]:\n",
    "            pair[1] = '1' + pair[1]  # Add '1' to the right child\n",
    "\n",
    "        # Push the combined node back to the heap\n",
    "        heapq.heappush(heap, [lo[0] + hi[0]] + lo[1:] + hi[1:])\n",
    "\n",
    "    # The final heap will contain one element: the root of the Huffman tree\n",
    "    huff_tree = heap[0]\n",
    "    \n",
    "    # Extract Huffman codes from the tree\n",
    "    huff_codes = {symbol: code for symbol, code in huff_tree[1:]}\n",
    "    \n",
    "    return huff_codes\n",
    "\n",
    "# Function to perform Huffman encoding on the input data\n",
    "def huffman_encode(data, huff_codes):\n",
    "    return ''.join(huff_codes[chunk] for chunk in data)\n",
    "\n",
    "# Function to convert video to bits (assuming you already have this)\n",
    "def video_to_bits(video_path):\n",
    "    with open(video_path, 'rb') as video_file:\n",
    "        video_data = video_file.read()\n",
    "\n",
    "    bits = ''.join(format(byte, '08b') for byte in video_data)\n",
    "    return bits\n",
    "\n",
    "# Function to split video bits into 95-bit chunks\n",
    "def split_into_chunks(bits, chunk_size=47491):\n",
    "    return [bits[i:i+chunk_size] for i in range(0, len(bits), chunk_size)]\n",
    "\n",
    "# Specify the path to your video file\n",
    "video_path = 'DCCTVideo.mp4'\n",
    "\n",
    "# Convert video to bits\n",
    "video_bits = video_to_bits(video_path)\n",
    "print(len(video_bits))\n",
    "# Split video bits into 95-bit chunks (treating each chunk as a symbol)\n",
    "chunks = split_into_chunks(video_bits, 47491)\n",
    "\n",
    "# Build the Huffman tree and generate Huffman codes for the chunks\n",
    "huffman_codes = build_huffman_tree(chunks)\n",
    "\n",
    "# Encode the video chunks using the Huffman codes\n",
    "huffman_encoded = huffman_encode(chunks, huffman_codes)\n",
    "\n",
    "print((huffman_encoded))\n"
   ]
  },
  {
   "cell_type": "code",
   "execution_count": 14,
   "id": "cbc37897",
   "metadata": {},
   "outputs": [
    {
     "name": "stdout",
     "output_type": "stream",
     "text": [
      "43680\n"
     ]
    }
   ],
   "source": [
    "repetition_factor = 10\n",
    "channel = []\n",
    "for elem in huffman_encoded:\n",
    "    channel.extend([elem] * repetition_factor)\n",
    "\n",
    "\n",
    "channel_encoded = ''.join(channel)  # Join with a comma and a space\n",
    "print(len(channel_encoded))"
   ]
  },
  {
   "cell_type": "code",
   "execution_count": 15,
   "id": "ea019954-97d9-4a2b-9852-7855a5806d91",
   "metadata": {},
   "outputs": [
    {
     "name": "stdout",
     "output_type": "stream",
     "text": [
      "436930\n",
      "3495440\n"
     ]
    }
   ],
   "source": [
    "\n",
    "def bpsk_modulate(encoded_bits):\n",
    "    return [1 if bit == '1' else -1 for bit in encoded_bits]\n",
    "\n",
    "bpsk_signal = bpsk_modulate(channel_encoded)\n",
    "\n",
    "\n",
    "# Barker Code\n",
    "barker_code = np.array([1, 1, 1, 1, 1, -1, -1, 1, 1, -1, 1, -1, 1])\n",
    "\n",
    "barker_code_string = \"\"\n",
    "\n",
    "\n",
    "\n",
    "# Integrate Barker Code\n",
    "bpsk_with_barker = np.concatenate((barker_code,bpsk_signal))\n",
    "\n",
    "#These sequences are typically long, and the receiver can identify the start of the frame by correlating the received signal with the known sequence.\n",
    "\n",
    "\n",
    "# Symbol Repetition (repeat 10 times)\n",
    "repeated_signal = np.tile(bpsk_with_barker, 10)\n",
    "print(len(repeated_signal))\n",
    "\n",
    "# Upsampling by adding zeros (each symbol represented by 8 samples)\n",
    "sps = 8\n",
    "upsampled_signal = np.zeros(len(repeated_signal) * sps)\n",
    "upsampled_signal[::sps] = repeated_signal\n",
    "\n",
    "\n",
    "print(len(upsampled_signal))\n",
    "\n"
   ]
  },
  {
   "cell_type": "code",
   "execution_count": 16,
   "id": "67904484-4019-49ac-9521-cfbb59a363df",
   "metadata": {},
   "outputs": [
    {
     "data": {
      "text/plain": [
       "'\\n# From PySDR\\nsample_rate = 2e6 # Hz\\ncarrier_freq = 900e6 # Hz\\nnum_samps = len(pulse_shaped_signal) # number of samples per call to rx()\\n\\nsdr = adi.Pluto(\"ip:192.168.2.0\")\\nsdr.sample_rate = int(sample_rate)\\n\\n# Config Tx\\nsdr.tx_rf_bandwidth = int(sample_rate) # filter cutoff, just set it to the same as sample rate\\nsdr.tx_lo = int(carrier_freq)\\nsdr.tx_hardwaregain_chan0 = 0 # Increase to increase tx power, valid range is -90 to 0 dB\\n\\n# Config Rx\\n\\n#sdr1 = adi.Pluto(\"ip:192.168.2.1\")\\nsdr.rx_lo = int(carrier_freq)\\nsdr.rx_rf_bandwidth = int(sample_rate)\\nsdr.rx_buffer_size = num_samps\\nsdr.gain_control_mode_chan0 = \\'manual\\'\\nsdr.rx_hardwaregain_chan0 = -10 # dB, increase to increase the receive gain, but be careful not to saturate the ADC\\n\\n# Normalize to PlutoSDR range\\ntransmitted1 = pulse_shaped_signal * 2**12\\n\\n# Start the transmitter\\nsdr.tx_cyclic_buffer = True  # Enable cyclic buffers\\nsdr.tx(transmitted1)  # Start transmitting\\n\\n# Clear buffer just to be safe\\nfor i in range(0, 10):\\n    raw_data = sdr.rx()\\n\\n# Receive samples\\nrx_samples = sdr.rx()\\nprint(rx_samples)\\n\\n# Stop transmitting\\nsdr.tx_destroy_buffer()\\n'"
      ]
     },
     "execution_count": 16,
     "metadata": {},
     "output_type": "execute_result"
    }
   ],
   "source": [
    "\n",
    "# Create raised-cosine filter\n",
    "num_taps = 101\n",
    "beta = 0.35\n",
    "Ts = sps\n",
    "t = np.arange(num_taps) - (num_taps - 1) // 2\n",
    "p = np.sinc(t / Ts) * np.cos(np.pi * beta * t / Ts) / (1 - (2 * beta * t / Ts) ** 2)\n",
    "p /= np.max(p)  # Normalize filter to avoid scaling issues\n",
    "\n",
    "pulse_shaped_signal = np.convolve(upsampled_signal, p, mode='full')\n",
    "\n",
    "# Add noise\n",
    "noise = np.sqrt(0.01 / 2) * (np.random.randn(len(pulse_shaped_signal)) + 1j * np.random.randn(len(pulse_shaped_signal)))  # Complex noise\n",
    "rx_samples = pulse_shaped_signal + noise\n",
    "\n",
    "\n",
    "'''\n",
    "# From PySDR\n",
    "sample_rate = 2e6 # Hz\n",
    "carrier_freq = 900e6 # Hz\n",
    "num_samps = len(pulse_shaped_signal) # number of samples per call to rx()\n",
    "\n",
    "sdr = adi.Pluto(\"ip:192.168.2.0\")\n",
    "sdr.sample_rate = int(sample_rate)\n",
    "\n",
    "# Config Tx\n",
    "sdr.tx_rf_bandwidth = int(sample_rate) # filter cutoff, just set it to the same as sample rate\n",
    "sdr.tx_lo = int(carrier_freq)\n",
    "sdr.tx_hardwaregain_chan0 = 0 # Increase to increase tx power, valid range is -90 to 0 dB\n",
    "\n",
    "# Config Rx\n",
    "\n",
    "#sdr1 = adi.Pluto(\"ip:192.168.2.1\")\n",
    "sdr.rx_lo = int(carrier_freq)\n",
    "sdr.rx_rf_bandwidth = int(sample_rate)\n",
    "sdr.rx_buffer_size = num_samps\n",
    "sdr.gain_control_mode_chan0 = 'manual'\n",
    "sdr.rx_hardwaregain_chan0 = -10 # dB, increase to increase the receive gain, but be careful not to saturate the ADC\n",
    "\n",
    "# Normalize to PlutoSDR range\n",
    "transmitted1 = pulse_shaped_signal * 2**12\n",
    "\n",
    "# Start the transmitter\n",
    "sdr.tx_cyclic_buffer = True  # Enable cyclic buffers\n",
    "sdr.tx(transmitted1)  # Start transmitting\n",
    "\n",
    "# Clear buffer just to be safe\n",
    "for i in range(0, 10):\n",
    "    raw_data = sdr.rx()\n",
    "\n",
    "# Receive samples\n",
    "rx_samples = sdr.rx()\n",
    "print(rx_samples)\n",
    "\n",
    "# Stop transmitting\n",
    "sdr.tx_destroy_buffer()\n",
    "'''"
   ]
  },
  {
   "cell_type": "code",
   "execution_count": 17,
   "id": "e8e8dc0b-7715-4f45-af51-835d312c4419",
   "metadata": {},
   "outputs": [],
   "source": [
    "signal_data = np.real(rx_samples)\n",
    "\n",
    "# Define a function to create a raised cosine filter\n",
    "def raised_cosine_filter(num_taps, rolloff, sps):\n",
    "    t = np.arange(-num_taps // 2, num_taps // 2 + 1) / sps  # Time vector\n",
    "    h = np.zeros_like(t)\n",
    "\n",
    "    # Raised cosine filter formula\n",
    "    for i in range(len(t)):\n",
    "        if t[i] == 0:\n",
    "            h[i] = 1 - rolloff + (4 * rolloff / np.pi)  # Center tap\n",
    "        elif abs(t[i]) == 1 / (2 * rolloff):\n",
    "            h[i] = (rolloff / np.sqrt(2)) * (\n",
    "                1 + np.cos(np.pi * (1 / rolloff)))  # Edge tap\n",
    "        else:\n",
    "            h[i] = (np.sin(np.pi * t[i]) / (np.pi * t[i])) * \\\n",
    "                    np.cos(np.pi * rolloff * t[i]) / (1 - (4 * rolloff * t[i]) ** 2)\n",
    "\n",
    "    # Normalize the filter\n",
    "    h /= np.sum(h)\n",
    "\n",
    "    return h\n",
    "\n",
    "# Design the raised cosine filter\n",
    "num_taps = 101\n",
    "rolloff = 0.35\n",
    "sps = 8  # Samples per symbol\n",
    "rcos_filter = raised_cosine_filter(num_taps, rolloff, sps)\n",
    "matched_filter = rcos_filter[::-1]  # Reverse for matched filtering"
   ]
  },
  {
   "cell_type": "code",
   "execution_count": 18,
   "id": "dd1ccd5d-f0e3-4dce-8f48-ec172308a68e",
   "metadata": {},
   "outputs": [],
   "source": [
    "# Apply the matched filter\n",
    "filtered_signal = np.convolve(signal_data, matched_filter, mode='same')\n",
    "#filtered_signal = lfilter(rcos_filter,1.0,signal_data)\n",
    "# Downsample the signal\n",
    "downsampled_signal = filtered_signal[::sps]"
   ]
  },
  {
   "cell_type": "code",
   "execution_count": 8,
   "id": "0e209d4c-80a5-4e2b-9e6d-ec79a01e3be0",
   "metadata": {},
   "outputs": [
    {
     "name": "stderr",
     "output_type": "stream",
     "text": [
      "/home/haripriya/.local/lib/python3.10/site-packages/matplotlib/projections/__init__.py:63: UserWarning: Unable to import Axes3D. This may be due to multiple versions of Matplotlib being installed (e.g. as a system package and as a pip package). As a result, the 3D projection is not available.\n",
      "  warnings.warn(\"Unable to import Axes3D. This may be due to multiple versions of \"\n"
     ]
    },
    {
     "name": "stdout",
     "output_type": "stream",
     "text": [
      "6\n",
      "[6, 43699, 87392, 131085, 174778, 218471, 262164, 305857, 349550, 393243]\n",
      "[ 1.  1.  1.  1.  1. -1. -1.  1.  1. -1.  1. -1.  1.]\n"
     ]
    },
    {
     "data": {
      "image/png": "[encoded data removed]",
      "text/plain": [
       "<Figure size 640x480 with 1 Axes>"
      ]
     },
     "metadata": {},
     "output_type": "display_data"
    }
   ],
   "source": [
    "import matplotlib.pyplot as plt\n",
    "# Symbol detection\n",
    "detected_symbols = np.sign(downsampled_signal)\n",
    "\n",
    "# Replace zeros with -1\n",
    "detected_symbols[detected_symbols == 0] = -1\n",
    "\n",
    "\n",
    "# Barker code sequence\n",
    "barker_code = np.array([1, 1, 1, 1, 1, -1, -1, 1, 1, -1, 1, -1, 1])\n",
    "barker_code_flip = np.array([-1, -1, -1, -1, -1, 1, 1, -1, -1, 1, -1, 1, -1])\n",
    "# Cross-correlation with Barker code\n",
    "correlation = np.correlate(detected_symbols, barker_code, mode='valid')\n",
    "\n",
    "def find_subsequence(main_array, subsequence1,subsequence2):\n",
    "    \n",
    "    for i in range(len(main_array) - len(subsequence1) + 1):\n",
    "          if np.array_equal(main_array[i:i+len(subsequence1)], subsequence1):           \n",
    "              return i\n",
    "          elif  np.array_equal(main_array[i:i+len(subsequence2)], subsequence2):           \n",
    "              return i\n",
    "    return -1  \n",
    "start_idx = find_subsequence(detected_symbols,barker_code,barker_code_flip)\n",
    "\n",
    "print(start_idx)\n",
    "\n",
    "indices = []\n",
    "for i in range(len(correlation)):\n",
    "    if abs(correlation[i])==13:\n",
    "        indices.append(i)\n",
    "print(indices)\n",
    "\n",
    "#start_idx = np.argmax(correlation)\n",
    "\n",
    "plt.plot(correlation)\n",
    "print(detected_symbols[start_idx:start_idx+13])\n",
    "# Extract the BPSK signal without the Barker codebpsk_length = len(bpsk_with_barker)\n",
    "# Length of BPSK with Barker code\n",
    "bpsk_length = len(bpsk_with_barker)\n",
    "extracted_bpsk_signal = detected_symbols[start_idx + len(barker_code):start_idx + bpsk_length]\n"
   ]
  },
  {
   "cell_type": "code",
   "execution_count": 19,
   "id": "4c5b7cfe-1849-48a3-adcb-46136f65b4f1",
   "metadata": {},
   "outputs": [
    {
     "name": "stdout",
     "output_type": "stream",
     "text": [
      "0\n",
      "000110000011100110101001010011001010001110001011110010001111101101011011000111111111111010000110001101011001110100000111001010000100111011000011110001011111000110111010011001110010101100010000000001000101111000001101111111001111011000100011000100010110111000111100111000100101001001010011101001101100000111101010111100110101001011100101110100001001101111111011101010011101110100110100011100010000110111010100001111000010011111100111100111100110110101001111110101101100101000001000000101010111010100000010011111011111101001100110011111000010011010100010001110101010000011100110100111111011010011010110011101101101010110000101011100100111010010101111010111101011101000000011100100011000110011011100101001110100011010111111011001010001010111101111001010011011101100111000000101111110010001110010111110100100111100000001001100011000011001000111010010101100010100101101010010111100110001010101011101100001010100110011011010101100001100011100001011001111100001111110100011100100101001010111110111111001100000100101101010001101110110110111011110101010100111001011100010100111110001100010010100001000010001001011001110101101111111111001010111001011011101110000101010111011111101111101000101000100011100000011010000111000100110100011110010101011001000001111000001001001000101101110001111100100000100000110111010111100010111111010100011010001010111000111011101100001001101011010011010111110000100010101010111000110100000000000111100101010000110010110101010101101101011011110011111111110011001011110110111010100100101110100111101010100010101100011110110011000101100010000000110111000000100000111100010010101011101001100000001101000110110000011010101010001100011010010101010001011000110110001110100001100010001111100011111010001001011101111010101101111100111100100011111111110010110100111101001110111000100001001100101011011011001111110110100001011011111000110101000011110101011111100110111100010000010011101001101100011011100101011100110101111111100000100010010110100010001000110100100100011011010011001001101100111100100010101110011111010111001100100100110011001011001110001110110111011010001000001110101111010001001010001101010111101011010110001100001101011000110001110110110100101000011110000111111100000101100011100010000011001100011100001101110010000011101111000010110010101011111000110110000110010101111111100101111001100010101101001010100110111010010010010111000011001011011110011000101111110011001010100100000100111110010111011111010100110111110100100001101001001111010000001100011011001111100101110000011000100010110000001010100111100100101001011110110101110100110001011011101000000111000011011111011010000111101010011111101100111000111110011001100101100101100110110111000000011000111000110110000000111010000101111011101111010011101011001111000011000010011111101000000100011011010100101011011110011010000100101011000001110100100100101110000010010110010010000110011000101111111011000011100101110101100110100100100110101100100011101111110100100001101101101010000001001011001001110010011110011000111011010001110011101101000001001000011110101100101001011101000110011101011101011001001101111001110010000101111011001000000110011001101011111010001000010100101001000101010011110000000000100011100100110111111001000010010000110111010100100110010100011110011100001100100011111000010111101011010100100000111010110011110000000111101001010110110001001101100010000101010001100111011011000011111011001001001110100110010100011001010001100111101110010100101101100000100111111000000101101110100010100011111000100110110011000101110101010111111111001000000010110010010011100111000111111100111010111001011100011011011111011010111101101011101101011001010011100000100000011110111110100010111011000100010001001111011011001110011110111010011100110010011101101101101111110111100001100001011001111111011000000110100001001100100101011010000010110101100010010101001001011010001110000111001010000010011101100010100110001100011011001011110110111000101001110101001000100100110001011000001011011011010010101101001001000010011100001101110100011101110111110100111110101101000101011111111010000001111001011101100010110100000101101111101110010111001101000010011111111110110101100011101011001000111011110111001000111101111000000111001000100000010111000011110000011011000100000110011110011011111111010101101101111001101101111000110100000101111100110011010100111101101010011100001111101001000111100101111001100\n"
     ]
    }
   ],
   "source": [
    "# Decode the BPSK signal back to bits\n",
    "decoded_bits = ['1' if symbol > 0 else '0' for symbol in extracted_bpsk_signal]\n",
    "\n",
    "# Reconstruct the Huffman encoded bitstream\n",
    "channel_encoded_received = ''.join(decoded_bits)\n",
    "\n",
    "\n",
    "def repetition_decode(received, n):\n",
    "    decoded = []\n",
    "    for i in range(0, len(received), n):\n",
    "        # Take a majority vote over the n bits\n",
    "        group = received[i:i+n]\n",
    "        majority_bit = '1' if group.count('1') > group.count('0') else '0'\n",
    "        decoded.append(majority_bit)\n",
    "    return decoded\n",
    "\n",
    "channel_decoded = repetition_decode(channel_encoded_received,repetition_factor)\n",
    "channel_decode = ''.join(channel_decoded)\n",
    "\n",
    "pe = 0\n",
    "for i in range(len(channel_decode)):\n",
    "    if channel_decode[i]!=huffman_encoded[i]:\n",
    "    \n",
    "        pe = pe+1\n",
    "print(pe)\n",
    "if pe == 4368:\n",
    "   \n",
    "        channel_decode = ['0' if bit == '1' else '1' for bit in channel_decode]\n",
    "\n",
    "channel_decode = ''.join(channel_decode)\n",
    "\n",
    "print((channel_decode))\n"
   ]
  },
  {
   "cell_type": "code",
   "execution_count": 10,
   "id": "a57b3cd7-fdc5-433a-ba5c-7d47d3a873e0",
   "metadata": {},
   "outputs": [
    {
     "name": "stdout",
     "output_type": "stream",
     "text": [
      "23175608\n"
     ]
    }
   ],
   "source": [
    "# Decoding function with length check\n",
    "def huffman_decode(encoded_bitstream, reverse_huffman_codes):\n",
    "    huffman_decoded = ''\n",
    "    current_code = ''\n",
    "    decoded_characters = 0  # Count of decoded characters\n",
    "\n",
    "    for bit in encoded_bitstream:\n",
    "        current_code += bit\n",
    "\n",
    "        # If the current code matches any of the Huffman codes\n",
    "        if current_code in reverse_huffman_codes:\n",
    "            huffman_decoded += reverse_huffman_codes[current_code]\n",
    "            decoded_characters += 1\n",
    "            current_code = ''  # Reset on successful match\n",
    "\n",
    "            \n",
    "\n",
    "    return huffman_decoded\n",
    "\n",
    "\n",
    "\n",
    "# Call the decode function\n",
    "reverse_huffman_codes = {code: char for char, code in huffman_codes.items()}\n",
    "\n",
    "# Decode the Huffman encoded message\n",
    "huffman_decoded = huffman_decode(channel_decode, reverse_huffman_codes)\n",
    "print(len(huffman_decoded))\n"
   ]
  },
  {
   "cell_type": "code",
   "execution_count": 11,
   "id": "e1087311-699a-48f1-94c9-07bdececea6c",
   "metadata": {},
   "outputs": [],
   "source": [
    "def bits_to_video(bits, output_path):\n",
    "    # Ensure the length of the bits is a multiple of 8 (each byte is 8 bits)\n",
    "    if len(bits) % 8!= 0:\n",
    "        raise ValueError(\"The bits string length must be a multiple of 8.\")\n",
    "    \n",
    "    # Convert the bits back to bytes\n",
    "    video_data = bytearray()\n",
    "    for i in range(0, len(bits), 8):\n",
    "        byte = bits[i:i+8]  # Take 8 bits at a time\n",
    "        video_data.append(int(byte, 2))  # Convert the 8-bit string to an integer and append to the bytearray\n",
    "    \n",
    "    # Write the bytes back to a video file\n",
    "    with open(output_path, 'wb') as video_file:\n",
    "        video_file.write(video_data)\n",
    "\n",
    "# Example usage\n",
    "output_path = 'DCCT_output_Simulation.mp4'  # Path to save the reconstructed video\n",
    "\n",
    "# Convert the bits back to video\n",
    "bits_to_video(huffman_decoded, output_path)"
   ]
  },
  {
   "cell_type": "code",
   "execution_count": null,
   "id": "e0a27b68-d9d7-4e08-b197-d49f55517adb",
   "metadata": {},
   "outputs": [],
   "source": []
  },
  {
   "cell_type": "code",
   "execution_count": null,
   "id": "0f767505-e621-46a7-b34b-c3563cb3009f",
   "metadata": {},
   "outputs": [],
   "source": [
    "\n"
   ]
  },
  {
   "cell_type": "code",
   "execution_count": null,
   "id": "eb0f2ec7-e996-4833-a993-9bff98d48ff5",
   "metadata": {},
   "outputs": [],
   "source": []
  },
  {
   "cell_type": "code",
   "execution_count": null,
   "id": "290a97f3-8873-482c-a560-10a0d71e091c",
   "metadata": {},
   "outputs": [],
   "source": []
  },
  {
   "cell_type": "code",
   "execution_count": null,
   "id": "ff339d7f-1405-4ed0-abe7-e5b922bc8ef1",
   "metadata": {},
   "outputs": [],
   "source": []
  },
  {
   "cell_type": "code",
   "execution_count": null,
   "id": "6cab6dab-4109-4d42-840f-650d81f6f537",
   "metadata": {},
   "outputs": [],
   "source": []
  },
  {
   "cell_type": "code",
   "execution_count": null,
   "id": "4a99586d-9632-49a7-9ea4-9f4b282b9979",
   "metadata": {},
   "outputs": [],
   "source": []
  },
  {
   "cell_type": "code",
   "execution_count": null,
   "id": "2376078d-6bd0-498c-9455-1f96774e69c0",
   "metadata": {},
   "outputs": [],
   "source": []
  },
  {
   "cell_type": "code",
   "execution_count": null,
   "id": "7de36593-672b-4348-bf89-3533e0f79e0b",
   "metadata": {},
   "outputs": [],
   "source": []
  },
  {
   "cell_type": "code",
   "execution_count": null,
   "id": "8ba0dab7-210e-494d-871e-8d6be799d203",
   "metadata": {},
   "outputs": [],
   "source": []
  },
  {
   "cell_type": "code",
   "execution_count": null,
   "id": "d1983d86-f890-441a-8122-adde4dd21320",
   "metadata": {},
   "outputs": [],
   "source": []
  }
 ],
 "metadata": {
  "kernelspec": {
   "display_name": "Python 3 (ipykernel)",
   "language": "python",
   "name": "python3"
  },
  "language_info": {
   "codemirror_mode": {
    "name": "ipython",
    "version": 3
   },
   "file_extension": ".py",
   "mimetype": "text/x-python",
   "name": "python",
   "nbconvert_exporter": "python",
   "pygments_lexer": "ipython3",
   "version": "3.10.12"
  }
 },
 "nbformat": 4,
 "nbformat_minor": 5
}
